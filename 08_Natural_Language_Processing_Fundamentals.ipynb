{
  "nbformat": 4,
  "nbformat_minor": 0,
  "metadata": {
    "colab": {
      "name": "08_Natural_Language_Processing_Fundamentals.ipynb",
      "provenance": [],
      "authorship_tag": "ABX9TyNWRWxpK62hPg6FlpAD3ij6",
      "include_colab_link": true
    },
    "kernelspec": {
      "name": "python3",
      "display_name": "Python 3"
    },
    "language_info": {
      "name": "python"
    },
    "accelerator": "GPU"
  },
  "cells": [
    {
      "cell_type": "markdown",
      "metadata": {
        "id": "view-in-github",
        "colab_type": "text"
      },
      "source": [
        "<a href=\"https://colab.research.google.com/github/Angeal13/NLP_Tweets_labeling/blob/main/08_Natural_Language_Processing_Fundamentals.ipynb\" target=\"_parent\"><img src=\"https://colab.research.google.com/assets/colab-badge.svg\" alt=\"Open In Colab\"/></a>"
      ]
    },
    {
      "cell_type": "markdown",
      "metadata": {
        "id": "v3I5QoTkSjdf"
      },
      "source": [
        "# Intro to NLP Fundamentals in TF\n",
        "NLP has the goal of deriving infromation out of nautural language(seuqences test/speech)\n",
        "\n",
        "Another coomon term for NLP problems is sequence to sequence probelms(seq2seq)"
      ]
    },
    {
      "cell_type": "markdown",
      "metadata": {
        "id": "sIPl-TE0TJVk"
      },
      "source": [
        "#Imports"
      ]
    },
    {
      "cell_type": "markdown",
      "metadata": {
        "id": "PqjPlBfHTLZ3"
      },
      "source": [
        "##Helper Fucntions"
      ]
    },
    {
      "cell_type": "code",
      "metadata": {
        "colab": {
          "base_uri": "https://localhost:8080/"
        },
        "id": "elNHnH3dKzaY",
        "outputId": "79965265-108a-4f4a-9caa-a51e6ef24cb0"
      },
      "source": [
        "!wget https://raw.githubusercontent.com/mrdbourke/tensorflow-deep-learning/main/extras/helper_functions.py"
      ],
      "execution_count": null,
      "outputs": [
        {
          "output_type": "stream",
          "text": [
            "--2021-07-27 15:22:45--  https://raw.githubusercontent.com/mrdbourke/tensorflow-deep-learning/main/extras/helper_functions.py\n",
            "Resolving raw.githubusercontent.com (raw.githubusercontent.com)... 185.199.108.133, 185.199.109.133, 185.199.110.133, ...\n",
            "Connecting to raw.githubusercontent.com (raw.githubusercontent.com)|185.199.108.133|:443... connected.\n",
            "HTTP request sent, awaiting response... 200 OK\n",
            "Length: 10246 (10K) [text/plain]\n",
            "Saving to: ‘helper_functions.py’\n",
            "\n",
            "helper_functions.py 100%[===================>]  10.01K  --.-KB/s    in 0s      \n",
            "\n",
            "2021-07-27 15:22:45 (74.3 MB/s) - ‘helper_functions.py’ saved [10246/10246]\n",
            "\n"
          ],
          "name": "stdout"
        }
      ]
    },
    {
      "cell_type": "code",
      "metadata": {
        "id": "AELqYg7eTS7M"
      },
      "source": [
        "from helper_functions import *"
      ],
      "execution_count": null,
      "outputs": []
    },
    {
      "cell_type": "markdown",
      "metadata": {
        "id": "HSGbrm1OUzyr"
      },
      "source": [
        "##Modules\n"
      ]
    },
    {
      "cell_type": "code",
      "metadata": {
        "id": "ln0wM9fBUzQj"
      },
      "source": [
        "import pandas as pd\n",
        "from tensorflow import keras"
      ],
      "execution_count": null,
      "outputs": []
    },
    {
      "cell_type": "code",
      "metadata": {
        "id": "atMlHvIAx5gP"
      },
      "source": [
        "from tensorflow.keras import Model\n",
        "from tensorflow.keras.optimizers import *"
      ],
      "execution_count": null,
      "outputs": []
    },
    {
      "cell_type": "code",
      "metadata": {
        "id": "Z6f0ENol0K3r"
      },
      "source": [
        "import tensorflow_hub as hub\n"
      ],
      "execution_count": null,
      "outputs": []
    },
    {
      "cell_type": "markdown",
      "metadata": {
        "id": "xB2VHXIQTb2R"
      },
      "source": [
        "# Data"
      ]
    },
    {
      "cell_type": "markdown",
      "metadata": {
        "id": "0c-abEN2Td24"
      },
      "source": [
        "## Get the Data\n",
        "The dataset will de Kaggels's intro to NLP(text example of Tweets label as disaster or not disaster)\n",
        "\n",
        "link:https://www.kaggle.com/c/nlp-getting-started/"
      ]
    },
    {
      "cell_type": "code",
      "metadata": {
        "colab": {
          "base_uri": "https://localhost:8080/"
        },
        "id": "diCfpLR0Tx_l",
        "outputId": "61b0d635-3989-4b3e-e4ac-82b7c3fb4c34"
      },
      "source": [
        "!wget https://storage.googleapis.com/ztm_tf_course/nlp_getting_started.zip"
      ],
      "execution_count": null,
      "outputs": [
        {
          "output_type": "stream",
          "text": [
            "--2021-07-27 15:22:48--  https://storage.googleapis.com/ztm_tf_course/nlp_getting_started.zip\n",
            "Resolving storage.googleapis.com (storage.googleapis.com)... 108.177.119.128, 108.177.126.128, 108.177.127.128, ...\n",
            "Connecting to storage.googleapis.com (storage.googleapis.com)|108.177.119.128|:443... connected.\n",
            "HTTP request sent, awaiting response... 200 OK\n",
            "Length: 607343 (593K) [application/zip]\n",
            "Saving to: ‘nlp_getting_started.zip’\n",
            "\n",
            "\rnlp_getting_started   0%[                    ]       0  --.-KB/s               \rnlp_getting_started 100%[===================>] 593.11K  --.-KB/s    in 0.005s  \n",
            "\n",
            "2021-07-27 15:22:48 (118 MB/s) - ‘nlp_getting_started.zip’ saved [607343/607343]\n",
            "\n"
          ],
          "name": "stdout"
        }
      ]
    },
    {
      "cell_type": "code",
      "metadata": {
        "id": "BQ8HhkD6T6ks"
      },
      "source": [
        "unzip_data('nlp_getting_started.zip')"
      ],
      "execution_count": null,
      "outputs": []
    },
    {
      "cell_type": "markdown",
      "metadata": {
        "id": "Ut5zMVGmUMGo"
      },
      "source": [
        "## Become on with the Data"
      ]
    },
    {
      "cell_type": "markdown",
      "metadata": {
        "id": "539vRnLWURa-"
      },
      "source": [
        "### Visualize te Data\n",
        "To visualize the data,it has to be read in first.\n",
        "\n",
        "The better way,yet most complex wasy is to use Pandas"
      ]
    },
    {
      "cell_type": "code",
      "metadata": {
        "colab": {
          "base_uri": "https://localhost:8080/"
        },
        "id": "SZThKeABT_7i",
        "outputId": "d516767e-c24a-437a-9f66-0b159e3dab07"
      },
      "source": [
        "train_df=pd.read_csv('train.csv')\n",
        "test_df=pd.read_csv('test.csv')\n",
        "train_df.head()"
      ],
      "execution_count": null,
      "outputs": [
        {
          "output_type": "execute_result",
          "data": {
            "text/html": [
              "<div>\n",
              "<style scoped>\n",
              "    .dataframe tbody tr th:only-of-type {\n",
              "        vertical-align: middle;\n",
              "    }\n",
              "\n",
              "    .dataframe tbody tr th {\n",
              "        vertical-align: top;\n",
              "    }\n",
              "\n",
              "    .dataframe thead th {\n",
              "        text-align: right;\n",
              "    }\n",
              "</style>\n",
              "<table border=\"1\" class=\"dataframe\">\n",
              "  <thead>\n",
              "    <tr style=\"text-align: right;\">\n",
              "      <th></th>\n",
              "      <th>id</th>\n",
              "      <th>keyword</th>\n",
              "      <th>location</th>\n",
              "      <th>text</th>\n",
              "      <th>target</th>\n",
              "    </tr>\n",
              "  </thead>\n",
              "  <tbody>\n",
              "    <tr>\n",
              "      <th>0</th>\n",
              "      <td>1</td>\n",
              "      <td>NaN</td>\n",
              "      <td>NaN</td>\n",
              "      <td>Our Deeds are the Reason of this #earthquake M...</td>\n",
              "      <td>1</td>\n",
              "    </tr>\n",
              "    <tr>\n",
              "      <th>1</th>\n",
              "      <td>4</td>\n",
              "      <td>NaN</td>\n",
              "      <td>NaN</td>\n",
              "      <td>Forest fire near La Ronge Sask. Canada</td>\n",
              "      <td>1</td>\n",
              "    </tr>\n",
              "    <tr>\n",
              "      <th>2</th>\n",
              "      <td>5</td>\n",
              "      <td>NaN</td>\n",
              "      <td>NaN</td>\n",
              "      <td>All residents asked to 'shelter in place' are ...</td>\n",
              "      <td>1</td>\n",
              "    </tr>\n",
              "    <tr>\n",
              "      <th>3</th>\n",
              "      <td>6</td>\n",
              "      <td>NaN</td>\n",
              "      <td>NaN</td>\n",
              "      <td>13,000 people receive #wildfires evacuation or...</td>\n",
              "      <td>1</td>\n",
              "    </tr>\n",
              "    <tr>\n",
              "      <th>4</th>\n",
              "      <td>7</td>\n",
              "      <td>NaN</td>\n",
              "      <td>NaN</td>\n",
              "      <td>Just got sent this photo from Ruby #Alaska as ...</td>\n",
              "      <td>1</td>\n",
              "    </tr>\n",
              "  </tbody>\n",
              "</table>\n",
              "</div>"
            ],
            "text/plain": [
              "   id keyword  ...                                               text target\n",
              "0   1     NaN  ...  Our Deeds are the Reason of this #earthquake M...      1\n",
              "1   4     NaN  ...             Forest fire near La Ronge Sask. Canada      1\n",
              "2   5     NaN  ...  All residents asked to 'shelter in place' are ...      1\n",
              "3   6     NaN  ...  13,000 people receive #wildfires evacuation or...      1\n",
              "4   7     NaN  ...  Just got sent this photo from Ruby #Alaska as ...      1\n",
              "\n",
              "[5 rows x 5 columns]"
            ]
          },
          "metadata": {
            "tags": []
          },
          "execution_count": 7
        }
      ]
    },
    {
      "cell_type": "code",
      "metadata": {
        "id": "rqMdpnv1Vb-N"
      },
      "source": [
        "#Shuffle the training DataFrame\n",
        "train_df_shuffled=train_df.sample(frac=1,random_state=32)"
      ],
      "execution_count": null,
      "outputs": []
    },
    {
      "cell_type": "code",
      "metadata": {
        "colab": {
          "base_uri": "https://localhost:8080/"
        },
        "id": "56pX-5tWVtH2",
        "outputId": "c72e60db-9568-41c6-9114-91077e6530e3"
      },
      "source": [
        "train_df_shuffled.head()"
      ],
      "execution_count": null,
      "outputs": [
        {
          "output_type": "execute_result",
          "data": {
            "text/html": [
              "<div>\n",
              "<style scoped>\n",
              "    .dataframe tbody tr th:only-of-type {\n",
              "        vertical-align: middle;\n",
              "    }\n",
              "\n",
              "    .dataframe tbody tr th {\n",
              "        vertical-align: top;\n",
              "    }\n",
              "\n",
              "    .dataframe thead th {\n",
              "        text-align: right;\n",
              "    }\n",
              "</style>\n",
              "<table border=\"1\" class=\"dataframe\">\n",
              "  <thead>\n",
              "    <tr style=\"text-align: right;\">\n",
              "      <th></th>\n",
              "      <th>id</th>\n",
              "      <th>keyword</th>\n",
              "      <th>location</th>\n",
              "      <th>text</th>\n",
              "      <th>target</th>\n",
              "    </tr>\n",
              "  </thead>\n",
              "  <tbody>\n",
              "    <tr>\n",
              "      <th>2250</th>\n",
              "      <td>3221</td>\n",
              "      <td>deluged</td>\n",
              "      <td>London</td>\n",
              "      <td>Why are you deluged with low self-image? Take ...</td>\n",
              "      <td>1</td>\n",
              "    </tr>\n",
              "    <tr>\n",
              "      <th>7155</th>\n",
              "      <td>10252</td>\n",
              "      <td>war%20zone</td>\n",
              "      <td>NaN</td>\n",
              "      <td>Bedroom clean  bathroom clean  laundry done .....</td>\n",
              "      <td>0</td>\n",
              "    </tr>\n",
              "    <tr>\n",
              "      <th>3148</th>\n",
              "      <td>4522</td>\n",
              "      <td>emergency</td>\n",
              "      <td>Indianapolis, IN</td>\n",
              "      <td>UPDATE: Indiana State Police reopening I-65 ne...</td>\n",
              "      <td>1</td>\n",
              "    </tr>\n",
              "    <tr>\n",
              "      <th>1857</th>\n",
              "      <td>2670</td>\n",
              "      <td>crush</td>\n",
              "      <td>GLOBAL</td>\n",
              "      <td>Had a minute alone with my crush??...it was an...</td>\n",
              "      <td>0</td>\n",
              "    </tr>\n",
              "    <tr>\n",
              "      <th>4760</th>\n",
              "      <td>6773</td>\n",
              "      <td>lightning</td>\n",
              "      <td>Victoria, BC</td>\n",
              "      <td>Lightning causes six new fires on VancouveråÊI...</td>\n",
              "      <td>1</td>\n",
              "    </tr>\n",
              "  </tbody>\n",
              "</table>\n",
              "</div>"
            ],
            "text/plain": [
              "         id  ... target\n",
              "2250   3221  ...      1\n",
              "7155  10252  ...      0\n",
              "3148   4522  ...      1\n",
              "1857   2670  ...      0\n",
              "4760   6773  ...      1\n",
              "\n",
              "[5 rows x 5 columns]"
            ]
          },
          "metadata": {
            "tags": []
          },
          "execution_count": 9
        }
      ]
    },
    {
      "cell_type": "code",
      "metadata": {
        "colab": {
          "base_uri": "https://localhost:8080/"
        },
        "id": "ER1b_e9VV4Hq",
        "outputId": "03ffef18-9824-4f71-9227-6c58e538371c"
      },
      "source": [
        "#How doea the text Set llok like\n",
        "test_df.head()"
      ],
      "execution_count": null,
      "outputs": [
        {
          "output_type": "execute_result",
          "data": {
            "text/html": [
              "<div>\n",
              "<style scoped>\n",
              "    .dataframe tbody tr th:only-of-type {\n",
              "        vertical-align: middle;\n",
              "    }\n",
              "\n",
              "    .dataframe tbody tr th {\n",
              "        vertical-align: top;\n",
              "    }\n",
              "\n",
              "    .dataframe thead th {\n",
              "        text-align: right;\n",
              "    }\n",
              "</style>\n",
              "<table border=\"1\" class=\"dataframe\">\n",
              "  <thead>\n",
              "    <tr style=\"text-align: right;\">\n",
              "      <th></th>\n",
              "      <th>id</th>\n",
              "      <th>keyword</th>\n",
              "      <th>location</th>\n",
              "      <th>text</th>\n",
              "    </tr>\n",
              "  </thead>\n",
              "  <tbody>\n",
              "    <tr>\n",
              "      <th>0</th>\n",
              "      <td>0</td>\n",
              "      <td>NaN</td>\n",
              "      <td>NaN</td>\n",
              "      <td>Just happened a terrible car crash</td>\n",
              "    </tr>\n",
              "    <tr>\n",
              "      <th>1</th>\n",
              "      <td>2</td>\n",
              "      <td>NaN</td>\n",
              "      <td>NaN</td>\n",
              "      <td>Heard about #earthquake is different cities, s...</td>\n",
              "    </tr>\n",
              "    <tr>\n",
              "      <th>2</th>\n",
              "      <td>3</td>\n",
              "      <td>NaN</td>\n",
              "      <td>NaN</td>\n",
              "      <td>there is a forest fire at spot pond, geese are...</td>\n",
              "    </tr>\n",
              "    <tr>\n",
              "      <th>3</th>\n",
              "      <td>9</td>\n",
              "      <td>NaN</td>\n",
              "      <td>NaN</td>\n",
              "      <td>Apocalypse lighting. #Spokane #wildfires</td>\n",
              "    </tr>\n",
              "    <tr>\n",
              "      <th>4</th>\n",
              "      <td>11</td>\n",
              "      <td>NaN</td>\n",
              "      <td>NaN</td>\n",
              "      <td>Typhoon Soudelor kills 28 in China and Taiwan</td>\n",
              "    </tr>\n",
              "  </tbody>\n",
              "</table>\n",
              "</div>"
            ],
            "text/plain": [
              "   id keyword location                                               text\n",
              "0   0     NaN      NaN                 Just happened a terrible car crash\n",
              "1   2     NaN      NaN  Heard about #earthquake is different cities, s...\n",
              "2   3     NaN      NaN  there is a forest fire at spot pond, geese are...\n",
              "3   9     NaN      NaN           Apocalypse lighting. #Spokane #wildfires\n",
              "4  11     NaN      NaN      Typhoon Soudelor kills 28 in China and Taiwan"
            ]
          },
          "metadata": {
            "tags": []
          },
          "execution_count": 10
        }
      ]
    },
    {
      "cell_type": "markdown",
      "metadata": {
        "id": "EGMGTWiGWauB"
      },
      "source": [
        "##Split the Data into Training and Validation\n",
        "Try to compare the Moldel's results to actual labeled inputs"
      ]
    },
    {
      "cell_type": "code",
      "metadata": {
        "id": "lHXA3YZlWtND"
      },
      "source": [
        "from sklearn.model_selection import train_test_split"
      ],
      "execution_count": null,
      "outputs": []
    },
    {
      "cell_type": "code",
      "metadata": {
        "id": "-gPkJ0xaW5iX"
      },
      "source": [
        "#Use train_testsplit to split trainig dat into Training and Validation Set\n",
        "train_sentences,val_sentences,train_label,val_label=train_test_split(train_df_shuffled['text'].to_numpy(),\n",
        "                                                                     train_df_shuffled['target'].to_numpy(),\n",
        "                                                                     test_size=0.15, #15% of Trainig data\n",
        "                                                                     random_state=42)"
      ],
      "execution_count": null,
      "outputs": []
    },
    {
      "cell_type": "markdown",
      "metadata": {
        "id": "VBFnZHRMYAVP"
      },
      "source": [
        "#Convert it into Numbers\n",
        "Tokenization vs Embedding:\n",
        "* Tokeniztion: Straight mapping from token to numbers(can be modelled, but turns to get bigger really quickly)\n",
        "* Embedding: Ricehr representation of relationship between tokes(can limit size + can be learened)"
      ]
    },
    {
      "cell_type": "code",
      "metadata": {
        "id": "b10Ctie6YD6F"
      },
      "source": [
        "import tensorflow as tf\n",
        "from tensorflow.keras.layers.experimental.preprocessing import TextVectorization\n",
        "#USe defaul Textvectorization Parameters\n",
        "text_vetorizer=TextVectorization(max_tokens=None,#How many words in the Vocabulary\n",
        "                                 standardize='lower_and_strip_punctuation',#Remove the Puntuation and lower case every character\n",
        "                                 split='whitespace',#make each word into its own string\n",
        "                                 ngrams=None,#create groups of words\n",
        "                                 output_mode='int',#How to map tokens int number\n",
        "                                 output_sequence_length=None,#How long is every sequence(default is None)\n",
        "                                 pad_to_max_tokens=True,#Pad with zeros\n",
        "                                 )"
      ],
      "execution_count": null,
      "outputs": []
    },
    {
      "cell_type": "code",
      "metadata": {
        "colab": {
          "base_uri": "https://localhost:8080/"
        },
        "id": "MZQELL8YgSPH",
        "outputId": "a459fab8-c05f-48ad-c4ee-68ae1d0112e7"
      },
      "source": [
        "#Find the AVG number of token(words) in the training tweets\n",
        "round((sum([len(i.split())for i in train_sentences]))/len(train_sentences))"
      ],
      "execution_count": null,
      "outputs": [
        {
          "output_type": "execute_result",
          "data": {
            "text/plain": [
              "15"
            ]
          },
          "metadata": {
            "tags": []
          },
          "execution_count": 14
        }
      ]
    },
    {
      "cell_type": "code",
      "metadata": {
        "id": "Zq276a_tg8tp"
      },
      "source": [
        "#set up text vetorization variable\n",
        "max_vocab_length=10000 #Max number of words to have in the vocabulary\n",
        "max_length=15 #Max words per sentence\n",
        "\n",
        "text_vetorizer=TextVectorization(max_tokens=max_vocab_length,\n",
        "                                 output_mode='int',\n",
        "                                 output_sequence_length=max_length)"
      ],
      "execution_count": null,
      "outputs": []
    },
    {
      "cell_type": "code",
      "metadata": {
        "id": "WJNxGwbnhhBq"
      },
      "source": [
        "#Fit the text_vectoirizer to the training text\n",
        "text_vetorizer.adapt(train_sentences)"
      ],
      "execution_count": null,
      "outputs": []
    },
    {
      "cell_type": "markdown",
      "metadata": {
        "id": "FG4fMLOLi1sT"
      },
      "source": [
        "### Create an embedding layer\n",
        "Turn Tokenized text into embedding vector\n",
        "\n",
        "To make the embeddign it is necesary to use TF embedding layer\n",
        "\n",
        "Link:https://www.tensorflow.org/api_docs/python/tf/keras/layers/Embedding\n",
        "\n",
        "Parameters:\n",
        "* `input_dim`: Size of teh vocabulary\n",
        "* `output_dim`: Size of th eoutput embedding vector\n",
        "*`input_length`= length of sequences being passed to the embedding layer"
      ]
    },
    {
      "cell_type": "code",
      "metadata": {
        "id": "FUJ3XcpDl20x"
      },
      "source": [
        "from tensorflow.keras import layers\n",
        "embedding=layers.Embedding(input_dim=max_vocab_length,\n",
        "                           input_length=max_length,\n",
        "                           embeddings_initializer='uniform',\n",
        "                           output_dim=128)"
      ],
      "execution_count": null,
      "outputs": []
    },
    {
      "cell_type": "markdown",
      "metadata": {
        "id": "TKh-bd5_nCZO"
      },
      "source": [
        "#Modeling"
      ]
    },
    {
      "cell_type": "markdown",
      "metadata": {
        "id": "ObOwGoeBs4_y"
      },
      "source": [
        "###Build a Fucntion to compare the metrics"
      ]
    },
    {
      "cell_type": "code",
      "metadata": {
        "id": "v0zwXKQcs-pX"
      },
      "source": [
        "#Function to evaluate the metrics\n",
        "from sklearn.metrics import *\n",
        "\n",
        "def calculate_results(y_true,y_pred):\n",
        "  '''\n",
        "  Calculates model accuracy,precision,recall and f1 score of a binary classification model\n",
        "  '''\n",
        "\n",
        "  #Calculate model accuracy\n",
        "  model_accuracy=accuracy_score(y_true,y_pred)*100\n",
        "\n",
        "  #Calculate model Precisio,racall and f1 score,using the 'weighted average'\n",
        "  model_precision,model_recall,model_f1,_=precision_recall_fscore_support(y_true,y_pred,average='weighted')\n",
        "  model_results={\n",
        "      'accuracy':model_accuracy,\n",
        "      'precision':model_precision,\n",
        "      'recall':model_recall,\n",
        "      'f1_socre':model_f1\n",
        "  }\n",
        "  return model_results"
      ],
      "execution_count": null,
      "outputs": []
    },
    {
      "cell_type": "code",
      "metadata": {
        "id": "yTmGaup5xHM2"
      },
      "source": [
        "SAVE_DIR='model_logs'"
      ],
      "execution_count": null,
      "outputs": []
    },
    {
      "cell_type": "markdown",
      "metadata": {
        "id": "n5OjFo6Epyvs"
      },
      "source": [
        "##Model 0:Getting a Base Line\n",
        "In this case Sklearn library will be used to create this model.\n",
        "\n",
        "**Note** It is common to use non-Dl algorithmos as Baseline  and imporve until DL"
      ]
    },
    {
      "cell_type": "code",
      "metadata": {
        "colab": {
          "base_uri": "https://localhost:8080/"
        },
        "id": "qkBxWJ1ppyRa",
        "outputId": "ebbc7707-8280-448d-f6bf-dafc0db18c27"
      },
      "source": [
        "from sklearn.feature_extraction.text import TfidfVectorizer\n",
        "from sklearn.naive_bayes import MultinomialNB\n",
        "from sklearn.pipeline import Pipeline\n",
        "\n",
        "#Create tokinization adn modeling pipeline\n",
        "model_0=Pipeline([\n",
        "                  (('tfidf'),TfidfVectorizer()),#Convert Words to numbers using TFIDF\n",
        "                  (('clf'),MultinomialNB()),#Model the text\n",
        "])\n",
        "#Fit Pipeline to teh trainin Data\n",
        "model_0.fit(train_sentences,train_label)"
      ],
      "execution_count": null,
      "outputs": [
        {
          "output_type": "execute_result",
          "data": {
            "text/plain": [
              "Pipeline(memory=None,\n",
              "         steps=[('tfidf',\n",
              "                 TfidfVectorizer(analyzer='word', binary=False,\n",
              "                                 decode_error='strict',\n",
              "                                 dtype=<class 'numpy.float64'>,\n",
              "                                 encoding='utf-8', input='content',\n",
              "                                 lowercase=True, max_df=1.0, max_features=None,\n",
              "                                 min_df=1, ngram_range=(1, 1), norm='l2',\n",
              "                                 preprocessor=None, smooth_idf=True,\n",
              "                                 stop_words=None, strip_accents=None,\n",
              "                                 sublinear_tf=False,\n",
              "                                 token_pattern='(?u)\\\\b\\\\w\\\\w+\\\\b',\n",
              "                                 tokenizer=None, use_idf=True,\n",
              "                                 vocabulary=None)),\n",
              "                ('clf',\n",
              "                 MultinomialNB(alpha=1.0, class_prior=None, fit_prior=True))],\n",
              "         verbose=False)"
            ]
          },
          "metadata": {
            "tags": []
          },
          "execution_count": 20
        }
      ]
    },
    {
      "cell_type": "code",
      "metadata": {
        "colab": {
          "base_uri": "https://localhost:8080/"
        },
        "id": "a3-pww3XrXbc",
        "outputId": "743a9a3a-2913-478c-e724-9fa7defd224a"
      },
      "source": [
        "#Evaluate model_0\n",
        "baseline_score=model_0.score(val_sentences,val_label)\n",
        "print(f'BaseLine model achives accuracy of: {baseline_score*100:.2f}%')"
      ],
      "execution_count": null,
      "outputs": [
        {
          "output_type": "stream",
          "text": [
            "BaseLine model achives accuracy of: 78.28%\n"
          ],
          "name": "stdout"
        }
      ]
    },
    {
      "cell_type": "code",
      "metadata": {
        "colab": {
          "base_uri": "https://localhost:8080/"
        },
        "id": "Yn_mEvLXsAF1",
        "outputId": "5b4b0f7f-4e01-461b-9ba0-9bde22695a3e"
      },
      "source": [
        "#Make predictions\n",
        "baseline_preds=model_0.predict(val_sentences)\n",
        "baseline_preds[:20],val_label[:20]\n"
      ],
      "execution_count": null,
      "outputs": [
        {
          "output_type": "execute_result",
          "data": {
            "text/plain": [
              "(array([0, 0, 0, 0, 0, 0, 0, 1, 1, 0, 0, 1, 0, 1, 1, 1, 0, 0, 0, 1]),\n",
              " array([0, 1, 0, 0, 0, 0, 0, 1, 0, 1, 0, 1, 0, 1, 1, 1, 0, 0, 0, 1]))"
            ]
          },
          "metadata": {
            "tags": []
          },
          "execution_count": 22
        }
      ]
    },
    {
      "cell_type": "code",
      "metadata": {
        "colab": {
          "base_uri": "https://localhost:8080/"
        },
        "id": "zMXWdKxrvSnF",
        "outputId": "fc84b527-f962-40b2-b38c-3a02329d7b78"
      },
      "source": [
        "#get the results\n",
        "baseline_results=calculate_results(y_true=val_label,y_pred=baseline_preds)\n",
        "\n",
        "print(baseline_results)"
      ],
      "execution_count": null,
      "outputs": [
        {
          "output_type": "stream",
          "text": [
            "{'accuracy': 78.28371278458845, 'precision': 0.8009601599769112, 'recall': 0.7828371278458844, 'f1_socre': 0.7740111697028993}\n"
          ],
          "name": "stdout"
        }
      ]
    },
    {
      "cell_type": "markdown",
      "metadata": {
        "id": "uEO2LXh8v32g"
      },
      "source": [
        "##Model_1:Feed Forward"
      ]
    },
    {
      "cell_type": "code",
      "metadata": {
        "id": "cuckdC-Uwyl3"
      },
      "source": [
        "#Building the model\n",
        "inputs=layers.Input(shape=(1,),dtype='string') #Input is one dimentional\n",
        "x= text_vetorizer(inputs) #Turn input text into numbers\n",
        "x=embedding(x) #Embeddin layer\n",
        "x=layers.GlobalAveragePooling1D()(x) #Condense the feature of each token to 1 vector\n",
        "outputs=layers.Dense(1,activation='sigmoid')(x) #Create output layer\n",
        "#Create the model\n",
        "model_1=Model(inputs,outputs,name='model_1_dense')"
      ],
      "execution_count": null,
      "outputs": []
    },
    {
      "cell_type": "code",
      "metadata": {
        "colab": {
          "base_uri": "https://localhost:8080/"
        },
        "id": "Ia_ZkqybySjF",
        "outputId": "7efb39dd-2e77-40ac-c91e-eba1d6273edd"
      },
      "source": [
        "#compile and fit the model\n",
        "model_1.compile(\n",
        "    loss='binary_crossentropy',\n",
        "    optimizer=Adam(),\n",
        "    metrics=['accuracy']\n",
        ")\n",
        "model_1_history=model_1.fit(x=train_sentences,y=train_label,\n",
        "                            epochs=5,validation_data=(val_sentences,val_label),\n",
        "                            callbacks=[create_tensorboard_callback(dir_name=SAVE_DIR,experiment_name='model_1_dense')])"
      ],
      "execution_count": null,
      "outputs": [
        {
          "output_type": "stream",
          "text": [
            "Saving TensorBoard log files to: model_logs/model_1_dense/20210727-152350\n",
            "Epoch 1/5\n",
            "203/203 [==============================] - 4s 16ms/step - loss: 0.6162 - accuracy: 0.6840 - val_loss: 0.5341 - val_accuracy: 0.7662\n",
            "Epoch 2/5\n",
            "203/203 [==============================] - 3s 15ms/step - loss: 0.4483 - accuracy: 0.8173 - val_loss: 0.4650 - val_accuracy: 0.7951\n",
            "Epoch 3/5\n",
            "203/203 [==============================] - 3s 15ms/step - loss: 0.3501 - accuracy: 0.8589 - val_loss: 0.4491 - val_accuracy: 0.7942\n",
            "Epoch 4/5\n",
            "203/203 [==============================] - 3s 15ms/step - loss: 0.2854 - accuracy: 0.8892 - val_loss: 0.4531 - val_accuracy: 0.7898\n",
            "Epoch 5/5\n",
            "203/203 [==============================] - 3s 15ms/step - loss: 0.2363 - accuracy: 0.9099 - val_loss: 0.4719 - val_accuracy: 0.7907\n"
          ],
          "name": "stdout"
        }
      ]
    },
    {
      "cell_type": "code",
      "metadata": {
        "colab": {
          "base_uri": "https://localhost:8080/"
        },
        "id": "bMbW3VtT0QAp",
        "outputId": "f43f4a7e-d94c-412a-e521-6996263f60f4"
      },
      "source": [
        "model_1.summary()"
      ],
      "execution_count": null,
      "outputs": [
        {
          "output_type": "stream",
          "text": [
            "Model: \"model_1_dense\"\n",
            "_________________________________________________________________\n",
            "Layer (type)                 Output Shape              Param #   \n",
            "=================================================================\n",
            "input_1 (InputLayer)         [(None, 1)]               0         \n",
            "_________________________________________________________________\n",
            "text_vectorization_1 (TextVe (None, 15)                0         \n",
            "_________________________________________________________________\n",
            "embedding (Embedding)        (None, 15, 128)           1280000   \n",
            "_________________________________________________________________\n",
            "global_average_pooling1d (Gl (None, 128)               0         \n",
            "_________________________________________________________________\n",
            "dense (Dense)                (None, 1)                 129       \n",
            "=================================================================\n",
            "Total params: 1,280,129\n",
            "Trainable params: 1,280,129\n",
            "Non-trainable params: 0\n",
            "_________________________________________________________________\n"
          ],
          "name": "stdout"
        }
      ]
    },
    {
      "cell_type": "code",
      "metadata": {
        "colab": {
          "base_uri": "https://localhost:8080/"
        },
        "id": "A_JEEZ5IzRFg",
        "outputId": "3cd8e512-5800-4a89-f594-ed14b586b924"
      },
      "source": [
        "#make predictions and evaluate\n",
        "model_1_pred_probs=model_1.predict(val_sentences)\n",
        "model_1_pred_probs[0]"
      ],
      "execution_count": null,
      "outputs": [
        {
          "output_type": "execute_result",
          "data": {
            "text/plain": [
              "array([0.10194194], dtype=float32)"
            ]
          },
          "metadata": {
            "tags": []
          },
          "execution_count": 27
        }
      ]
    },
    {
      "cell_type": "code",
      "metadata": {
        "id": "m-Jn_7XS0imU"
      },
      "source": [
        "#convert model prediction probabilities to label format\n",
        "model_1_pred=tf.squeeze(tf.round(model_1_pred_probs))"
      ],
      "execution_count": null,
      "outputs": []
    },
    {
      "cell_type": "code",
      "metadata": {
        "colab": {
          "base_uri": "https://localhost:8080/"
        },
        "id": "OAyKn9y40wz1",
        "outputId": "39ea1ac5-cea5-4656-8a35-c6e300cef16e"
      },
      "source": [
        "#Calculate teh results\n",
        "model_1_results=calculate_results(y_true=val_label,y_pred=model_1_pred)\n",
        "import numpy as np\n",
        "np.array(list(model_1_results.values()))>np.array(list(baseline_results.values()))"
      ],
      "execution_count": null,
      "outputs": [
        {
          "output_type": "execute_result",
          "data": {
            "text/plain": [
              "array([ True, False,  True,  True])"
            ]
          },
          "metadata": {
            "tags": []
          },
          "execution_count": 29
        }
      ]
    },
    {
      "cell_type": "code",
      "metadata": {
        "colab": {
          "base_uri": "https://localhost:8080/"
        },
        "id": "z_dwNeI61pJ0",
        "outputId": "802e8b21-7058-4d2d-e918-2c7f4e5410ef"
      },
      "source": [
        "model_1_results,baseline_results"
      ],
      "execution_count": null,
      "outputs": [
        {
          "output_type": "execute_result",
          "data": {
            "text/plain": [
              "({'accuracy': 79.07180385288967,\n",
              "  'f1_socre': 0.789330460019858,\n",
              "  'precision': 0.7904622622156405,\n",
              "  'recall': 0.7907180385288967},\n",
              " {'accuracy': 78.28371278458845,\n",
              "  'f1_socre': 0.7740111697028993,\n",
              "  'precision': 0.8009601599769112,\n",
              "  'recall': 0.7828371278458844})"
            ]
          },
          "metadata": {
            "tags": []
          },
          "execution_count": 30
        }
      ]
    },
    {
      "cell_type": "markdown",
      "metadata": {
        "id": "fyWcmVpF2KS2"
      },
      "source": [
        "## Model_2: LSTM(RNN)"
      ]
    },
    {
      "cell_type": "markdown",
      "metadata": {
        "id": "fv28xka-2TH0"
      },
      "source": [
        "The premise of a RNN  is to use teh representaiton of previous input to aid the representation of  a later input "
      ]
    },
    {
      "cell_type": "code",
      "metadata": {
        "id": "dfBvKzbh2JwA"
      },
      "source": [
        "#Build the model\n",
        "inputs=layers.Input(shape=(1,),dtype='string')\n",
        "x=text_vetorizer(inputs)\n",
        "x=embedding(x)\n",
        "#x=layers.LSTM(units=64,return_sequences=True,activation='tanh',recurrent_activation='sigmoid')(x)\n",
        "#When stacking RNN cell together,there is a need to return_sequences=True\n",
        "x=layers.LSTM(64)(x)\n",
        "#x=layers.Dense(64,activation='relu')(x)\n",
        "outputs=layers.Dense(1,activation='sigmoid')(x)\n",
        "#Create the model\n",
        "model_2=Model(inputs,outputs,name='model_2_LSTM')\n"
      ],
      "execution_count": null,
      "outputs": []
    },
    {
      "cell_type": "code",
      "metadata": {
        "colab": {
          "base_uri": "https://localhost:8080/"
        },
        "id": "jnqzP-DH9iNb",
        "outputId": "477d304b-0c87-4730-c50e-11e235115c05"
      },
      "source": [
        "model_2.summary()"
      ],
      "execution_count": null,
      "outputs": [
        {
          "output_type": "stream",
          "text": [
            "Model: \"model_2_LSTM\"\n",
            "_________________________________________________________________\n",
            "Layer (type)                 Output Shape              Param #   \n",
            "=================================================================\n",
            "input_2 (InputLayer)         [(None, 1)]               0         \n",
            "_________________________________________________________________\n",
            "text_vectorization_1 (TextVe (None, 15)                0         \n",
            "_________________________________________________________________\n",
            "embedding (Embedding)        (None, 15, 128)           1280000   \n",
            "_________________________________________________________________\n",
            "lstm (LSTM)                  (None, 64)                49408     \n",
            "_________________________________________________________________\n",
            "dense_1 (Dense)              (None, 1)                 65        \n",
            "=================================================================\n",
            "Total params: 1,329,473\n",
            "Trainable params: 1,329,473\n",
            "Non-trainable params: 0\n",
            "_________________________________________________________________\n"
          ],
          "name": "stdout"
        }
      ]
    },
    {
      "cell_type": "code",
      "metadata": {
        "colab": {
          "base_uri": "https://localhost:8080/"
        },
        "id": "DxfXJ0MT_A_l",
        "outputId": "f30af756-2955-4a89-9131-5d3f4f0bd979"
      },
      "source": [
        "model_2.compile(\n",
        "    loss='binary_crossentropy',\n",
        "    optimizer=Adam(),\n",
        "    metrics=['accuracy']\n",
        ")\n",
        "model_2_history=model_2.fit(x=train_sentences,y=train_label,\n",
        "                            epochs=5,validation_data=(val_sentences,val_label),\n",
        "                            callbacks=[create_tensorboard_callback(dir_name=SAVE_DIR,experiment_name='model_2_LSTM')])"
      ],
      "execution_count": null,
      "outputs": [
        {
          "output_type": "stream",
          "text": [
            "Saving TensorBoard log files to: model_logs/model_2_LSTM/20210727-152420\n",
            "Epoch 1/5\n",
            "203/203 [==============================] - 8s 30ms/step - loss: 0.2198 - accuracy: 0.9235 - val_loss: 0.5809 - val_accuracy: 0.7767\n",
            "Epoch 2/5\n",
            "203/203 [==============================] - 5s 26ms/step - loss: 0.1507 - accuracy: 0.9471 - val_loss: 0.6146 - val_accuracy: 0.7750\n",
            "Epoch 3/5\n",
            "203/203 [==============================] - 6s 27ms/step - loss: 0.1214 - accuracy: 0.9544 - val_loss: 0.7614 - val_accuracy: 0.7636\n",
            "Epoch 4/5\n",
            "203/203 [==============================] - 5s 26ms/step - loss: 0.1013 - accuracy: 0.9624 - val_loss: 0.7762 - val_accuracy: 0.7715\n",
            "Epoch 5/5\n",
            "203/203 [==============================] - 6s 27ms/step - loss: 0.0787 - accuracy: 0.9692 - val_loss: 0.9544 - val_accuracy: 0.7618\n"
          ],
          "name": "stdout"
        }
      ]
    },
    {
      "cell_type": "code",
      "metadata": {
        "colab": {
          "base_uri": "https://localhost:8080/"
        },
        "id": "oCjC75W0_34y",
        "outputId": "8631bccd-7ed8-4f85-c288-ddd6ccb4a415"
      },
      "source": [
        "#make predicitons\n",
        "model_2_pred_probs=model_2.predict(val_sentences)\n",
        "model_2_pred_probs[:10]"
      ],
      "execution_count": null,
      "outputs": [
        {
          "output_type": "execute_result",
          "data": {
            "text/plain": [
              "array([[1.0828674e-03],\n",
              "       [7.7813864e-04],\n",
              "       [4.3240526e-01],\n",
              "       [4.2182207e-04],\n",
              "       [1.4689553e-01],\n",
              "       [2.6369956e-01],\n",
              "       [6.5642595e-04],\n",
              "       [7.3448282e-01],\n",
              "       [9.9185997e-01],\n",
              "       [6.8518519e-04]], dtype=float32)"
            ]
          },
          "metadata": {
            "tags": []
          },
          "execution_count": 34
        }
      ]
    },
    {
      "cell_type": "code",
      "metadata": {
        "colab": {
          "base_uri": "https://localhost:8080/"
        },
        "id": "Ye2cX_gAAF9U",
        "outputId": "c8e653ba-6c49-41c9-9ddc-d927613e3dd4"
      },
      "source": [
        "#Convert to labels\n",
        "model_2_pred=tf.squeeze(tf.round(model_1_pred_probs))\n",
        "model_2_pred"
      ],
      "execution_count": null,
      "outputs": [
        {
          "output_type": "execute_result",
          "data": {
            "text/plain": [
              "<tf.Tensor: shape=(1142,), dtype=float32, numpy=array([0., 0., 1., ..., 1., 0., 0.], dtype=float32)>"
            ]
          },
          "metadata": {
            "tags": []
          },
          "execution_count": 35
        }
      ]
    },
    {
      "cell_type": "code",
      "metadata": {
        "colab": {
          "base_uri": "https://localhost:8080/"
        },
        "id": "y-RwbdlwAZGM",
        "outputId": "20bf6c56-1977-499f-e490-a4909d6558bf"
      },
      "source": [
        "#calculate Model_2 results\n",
        "model_2_results=calculate_results(y_true=val_label,y_pred=model_2_pred)\n",
        "model_2_results,baseline_results"
      ],
      "execution_count": null,
      "outputs": [
        {
          "output_type": "execute_result",
          "data": {
            "text/plain": [
              "({'accuracy': 79.07180385288967,\n",
              "  'f1_socre': 0.789330460019858,\n",
              "  'precision': 0.7904622622156405,\n",
              "  'recall': 0.7907180385288967},\n",
              " {'accuracy': 78.28371278458845,\n",
              "  'f1_socre': 0.7740111697028993,\n",
              "  'precision': 0.8009601599769112,\n",
              "  'recall': 0.7828371278458844})"
            ]
          },
          "metadata": {
            "tags": []
          },
          "execution_count": 36
        }
      ]
    },
    {
      "cell_type": "markdown",
      "metadata": {
        "id": "t75BsjvqA8Z2"
      },
      "source": [
        "## Model_3: GRU RNN"
      ]
    },
    {
      "cell_type": "code",
      "metadata": {
        "id": "3Tv6c_yqBIIY"
      },
      "source": [
        "#Build the model\n",
        "inputs=layers.Input(shape=(1,),dtype='string')\n",
        "x=text_vetorizer(inputs)\n",
        "x=embedding(x)\n",
        "#x=layers.GRU(64,return_sequences=True)(x)\n",
        "x=layers.GRU(64)(x)\n",
        "outputs=layers.Dense(1,activation='sigmoid')(x)\n",
        "\n",
        "#Create model\n",
        "model_3=Model(inputs,outputs,name='model_3_GRU')"
      ],
      "execution_count": null,
      "outputs": []
    },
    {
      "cell_type": "code",
      "metadata": {
        "colab": {
          "base_uri": "https://localhost:8080/"
        },
        "id": "VAWIMplDCF4a",
        "outputId": "541652e3-3cb3-4481-e7b8-4c6a5ad0bf0d"
      },
      "source": [
        "model_3.compile(\n",
        "    loss='binary_crossentropy',\n",
        "    optimizer=Adam(),\n",
        "    metrics=['accuracy']\n",
        ")\n",
        "model_3_history=model_3.fit(x=train_sentences,y=train_label,\n",
        "                            epochs=5,validation_data=(val_sentences,val_label),\n",
        "                            callbacks=[create_tensorboard_callback(SAVE_DIR,'model_3_GRU')])"
      ],
      "execution_count": null,
      "outputs": [
        {
          "output_type": "stream",
          "text": [
            "Saving TensorBoard log files to: model_logs/model_3_GRU/20210727-152451\n",
            "Epoch 1/5\n",
            "203/203 [==============================] - 8s 31ms/step - loss: 0.1560 - accuracy: 0.9363 - val_loss: 0.6396 - val_accuracy: 0.7750\n",
            "Epoch 2/5\n",
            "203/203 [==============================] - 5s 26ms/step - loss: 0.0799 - accuracy: 0.9702 - val_loss: 0.7523 - val_accuracy: 0.7644\n",
            "Epoch 3/5\n",
            "203/203 [==============================] - 5s 26ms/step - loss: 0.0692 - accuracy: 0.9733 - val_loss: 0.9026 - val_accuracy: 0.7627\n",
            "Epoch 4/5\n",
            "203/203 [==============================] - 5s 26ms/step - loss: 0.0630 - accuracy: 0.9753 - val_loss: 1.0934 - val_accuracy: 0.7522\n",
            "Epoch 5/5\n",
            "203/203 [==============================] - 5s 26ms/step - loss: 0.0523 - accuracy: 0.9754 - val_loss: 1.2437 - val_accuracy: 0.7583\n"
          ],
          "name": "stdout"
        }
      ]
    },
    {
      "cell_type": "code",
      "metadata": {
        "colab": {
          "base_uri": "https://localhost:8080/"
        },
        "id": "NjNNB3XUCydI",
        "outputId": "0a15ed2b-1185-4fb3-bbf8-aff280026003"
      },
      "source": [
        "model_3_pred_probs=model_3.predict(val_sentences)\n",
        "model_3_pred_probs[:10]"
      ],
      "execution_count": null,
      "outputs": [
        {
          "output_type": "execute_result",
          "data": {
            "text/plain": [
              "array([[2.1973252e-04],\n",
              "       [6.1530292e-05],\n",
              "       [2.6673105e-01],\n",
              "       [5.9023576e-05],\n",
              "       [3.6814874e-01],\n",
              "       [4.2786533e-01],\n",
              "       [6.8781374e-05],\n",
              "       [3.5286880e-01],\n",
              "       [9.9959052e-01],\n",
              "       [1.5652180e-04]], dtype=float32)"
            ]
          },
          "metadata": {
            "tags": []
          },
          "execution_count": 39
        }
      ]
    },
    {
      "cell_type": "code",
      "metadata": {
        "colab": {
          "base_uri": "https://localhost:8080/"
        },
        "id": "1Z-THGNnDBwC",
        "outputId": "e6a7351e-2e88-4682-b9c0-66264f3562d4"
      },
      "source": [
        "model_3_pred=tf.squeeze(tf.round(model_3_pred_probs))\n",
        "model_3_pred"
      ],
      "execution_count": null,
      "outputs": [
        {
          "output_type": "execute_result",
          "data": {
            "text/plain": [
              "<tf.Tensor: shape=(1142,), dtype=float32, numpy=array([0., 0., 0., ..., 1., 0., 0.], dtype=float32)>"
            ]
          },
          "metadata": {
            "tags": []
          },
          "execution_count": 40
        }
      ]
    },
    {
      "cell_type": "code",
      "metadata": {
        "colab": {
          "base_uri": "https://localhost:8080/"
        },
        "id": "4UJEUloXDOaG",
        "outputId": "d2ce3946-ecf2-4f23-f65c-c11f13d233c3"
      },
      "source": [
        "model_3_results=calculate_results(y_true=val_label,y_pred=model_3_pred)\n",
        "model_3_results,baseline_results,model_2_results,model_1_results"
      ],
      "execution_count": null,
      "outputs": [
        {
          "output_type": "execute_result",
          "data": {
            "text/plain": [
              "({'accuracy': 75.83187390542906,\n",
              "  'f1_socre': 0.7575645074157552,\n",
              "  'precision': 0.7574890229675436,\n",
              "  'recall': 0.7583187390542907},\n",
              " {'accuracy': 78.28371278458845,\n",
              "  'f1_socre': 0.7740111697028993,\n",
              "  'precision': 0.8009601599769112,\n",
              "  'recall': 0.7828371278458844},\n",
              " {'accuracy': 79.07180385288967,\n",
              "  'f1_socre': 0.789330460019858,\n",
              "  'precision': 0.7904622622156405,\n",
              "  'recall': 0.7907180385288967},\n",
              " {'accuracy': 79.07180385288967,\n",
              "  'f1_socre': 0.789330460019858,\n",
              "  'precision': 0.7904622622156405,\n",
              "  'recall': 0.7907180385288967})"
            ]
          },
          "metadata": {
            "tags": []
          },
          "execution_count": 41
        }
      ]
    },
    {
      "cell_type": "markdown",
      "metadata": {
        "id": "lbWMLBf-DrGR"
      },
      "source": [
        "## Model_4: Bidirectional RNN"
      ]
    },
    {
      "cell_type": "markdown",
      "metadata": {
        "id": "rT5FcuZ2EK_a"
      },
      "source": [
        "Normal RNNs go from Left-Right,howeve,Bidirectional RNN goes from right to Left as well as Left to Right"
      ]
    },
    {
      "cell_type": "code",
      "metadata": {
        "id": "QBsCuwojDnJB"
      },
      "source": [
        "#Build the model\n",
        "inputs=layers.Input(shape=(1,),dtype='string')\n",
        "x=text_vetorizer(inputs)\n",
        "x=embedding(x)\n",
        "x=layers.Bidirectional(layers.LSTM(64,return_sequences=True))(x)\n",
        "x=layers.Bidirectional(layers.GRU(64))(x)\n",
        "outputs=layers.Dense(1,activation='sigmoid')(x)\n",
        "\n",
        "#create the mdoel\n",
        "model_4=Model(inputs,outputs,name='model_4_Bidirectional')"
      ],
      "execution_count": null,
      "outputs": []
    },
    {
      "cell_type": "code",
      "metadata": {
        "colab": {
          "base_uri": "https://localhost:8080/"
        },
        "id": "inVUxQ9nFLpL",
        "outputId": "2f42ff25-2aef-402e-8602-f126f5de6d2a"
      },
      "source": [
        "model_4.summary()"
      ],
      "execution_count": null,
      "outputs": [
        {
          "output_type": "stream",
          "text": [
            "Model: \"model_4_Bidirectional\"\n",
            "_________________________________________________________________\n",
            "Layer (type)                 Output Shape              Param #   \n",
            "=================================================================\n",
            "input_4 (InputLayer)         [(None, 1)]               0         \n",
            "_________________________________________________________________\n",
            "text_vectorization_1 (TextVe (None, 15)                0         \n",
            "_________________________________________________________________\n",
            "embedding (Embedding)        (None, 15, 128)           1280000   \n",
            "_________________________________________________________________\n",
            "bidirectional (Bidirectional (None, 15, 128)           98816     \n",
            "_________________________________________________________________\n",
            "bidirectional_1 (Bidirection (None, 128)               74496     \n",
            "_________________________________________________________________\n",
            "dense_3 (Dense)              (None, 1)                 129       \n",
            "=================================================================\n",
            "Total params: 1,453,441\n",
            "Trainable params: 1,453,441\n",
            "Non-trainable params: 0\n",
            "_________________________________________________________________\n"
          ],
          "name": "stdout"
        }
      ]
    },
    {
      "cell_type": "code",
      "metadata": {
        "colab": {
          "base_uri": "https://localhost:8080/"
        },
        "id": "2w9OsB3JFOqP",
        "outputId": "e2da90b2-533e-4c9e-dba1-10590f0aa00d"
      },
      "source": [
        "model_4.compile(\n",
        "    loss='binary_crossentropy',\n",
        "    optimizer=Adam(),\n",
        "    metrics=['accuracy']\n",
        ")\n",
        "\n",
        "model_4_history=model_4.fit(x=train_sentences,y=train_label,\n",
        "                            epochs=5,validation_data=(val_sentences,val_label),\n",
        "                            callbacks=[create_tensorboard_callback(SAVE_DIR,'model_4_Bidirectional')])"
      ],
      "execution_count": null,
      "outputs": [
        {
          "output_type": "stream",
          "text": [
            "Saving TensorBoard log files to: model_logs/model_4_Bidirectional/20210727-152522\n",
            "Epoch 1/5\n",
            "203/203 [==============================] - 19s 62ms/step - loss: 0.0969 - accuracy: 0.9674 - val_loss: 0.9199 - val_accuracy: 0.7609\n",
            "Epoch 2/5\n",
            "203/203 [==============================] - 11s 53ms/step - loss: 0.0532 - accuracy: 0.9759 - val_loss: 1.2084 - val_accuracy: 0.7504\n",
            "Epoch 3/5\n",
            "203/203 [==============================] - 11s 52ms/step - loss: 0.0488 - accuracy: 0.9779 - val_loss: 1.3697 - val_accuracy: 0.7504\n",
            "Epoch 4/5\n",
            "203/203 [==============================] - 11s 52ms/step - loss: 0.0415 - accuracy: 0.9794 - val_loss: 1.4885 - val_accuracy: 0.7548\n",
            "Epoch 5/5\n",
            "203/203 [==============================] - 11s 52ms/step - loss: 0.0414 - accuracy: 0.9793 - val_loss: 1.5015 - val_accuracy: 0.7548\n"
          ],
          "name": "stdout"
        }
      ]
    },
    {
      "cell_type": "code",
      "metadata": {
        "id": "8XMPpPo7F3hd"
      },
      "source": [
        "model_4_pred_prob=model_4.predict(val_sentences)\n",
        "model_4_pred=tf.squeeze(tf.round(model_4_pred_prob))\n",
        "model_4_results=calculate_results(y_true=val_label,y_pred=model_4_pred)"
      ],
      "execution_count": null,
      "outputs": []
    },
    {
      "cell_type": "code",
      "metadata": {
        "colab": {
          "base_uri": "https://localhost:8080/"
        },
        "id": "WTaxore3GNfi",
        "outputId": "8f447bfc-265b-4149-db16-bdafa803449c"
      },
      "source": [
        "model_1_results,model_2_results,model_3_results,model_4_results"
      ],
      "execution_count": null,
      "outputs": [
        {
          "output_type": "execute_result",
          "data": {
            "text/plain": [
              "({'accuracy': 79.07180385288967,\n",
              "  'f1_socre': 0.789330460019858,\n",
              "  'precision': 0.7904622622156405,\n",
              "  'recall': 0.7907180385288967},\n",
              " {'accuracy': 79.07180385288967,\n",
              "  'f1_socre': 0.789330460019858,\n",
              "  'precision': 0.7904622622156405,\n",
              "  'recall': 0.7907180385288967},\n",
              " {'accuracy': 75.83187390542906,\n",
              "  'f1_socre': 0.7575645074157552,\n",
              "  'precision': 0.7574890229675436,\n",
              "  'recall': 0.7583187390542907},\n",
              " {'accuracy': 75.4816112084063,\n",
              "  'f1_socre': 0.7515835182982602,\n",
              "  'precision': 0.7553049095961615,\n",
              "  'recall': 0.7548161120840631})"
            ]
          },
          "metadata": {
            "tags": []
          },
          "execution_count": 46
        }
      ]
    },
    {
      "cell_type": "markdown",
      "metadata": {
        "id": "w1i9DF4JiqEm"
      },
      "source": [
        "## Model_5:1D CNN Model"
      ]
    },
    {
      "cell_type": "code",
      "metadata": {
        "id": "RHjHOZtRlCN7"
      },
      "source": [
        "#Build the model\n",
        "inputs=layers.Input((1,),dtype='string')\n",
        "x=text_vetorizer(inputs)\n",
        "x=embedding(x)\n",
        "x=layers.Conv1D(filters=64,kernel_size=5,activation='relu',padding='valid',strides=1)(x)\n",
        "x=layers.GlobalMaxPooling1D()(x)\n",
        "outputs=layers.Dense(1,activation='sigmoid')(x)\n",
        "\n",
        "#Create Model\n",
        "model_5=Model(inputs,outputs,name='model_5_Conv_1D')"
      ],
      "execution_count": null,
      "outputs": []
    },
    {
      "cell_type": "code",
      "metadata": {
        "colab": {
          "base_uri": "https://localhost:8080/"
        },
        "id": "kxljyJYKsX8b",
        "outputId": "2beb3498-8911-4766-ec3d-0837ca5c9fd1"
      },
      "source": [
        "model_5.compile(\n",
        "    loss='binary_crossentropy',\n",
        "    optimizer=Adam(),\n",
        "    metrics=['accuracy']\n",
        ")\n",
        "model_5_history=model_5.fit(x=train_sentences,y=train_label,\n",
        "                            epochs=5,validation_data=(val_sentences,val_label),\n",
        "                            callbacks=[create_tensorboard_callback(SAVE_DIR,'model_5_conv_1D')])"
      ],
      "execution_count": null,
      "outputs": [
        {
          "output_type": "stream",
          "text": [
            "Saving TensorBoard log files to: model_logs/model_5_conv_1D/20210727-160622\n",
            "Epoch 1/5\n",
            "203/203 [==============================] - 5s 20ms/step - loss: 0.0863 - accuracy: 0.9745 - val_loss: 1.1352 - val_accuracy: 0.7294\n",
            "Epoch 2/5\n",
            "203/203 [==============================] - 4s 18ms/step - loss: 0.0534 - accuracy: 0.9771 - val_loss: 1.2385 - val_accuracy: 0.7373\n",
            "Epoch 3/5\n",
            "203/203 [==============================] - 4s 18ms/step - loss: 0.0494 - accuracy: 0.9785 - val_loss: 1.3061 - val_accuracy: 0.7478\n",
            "Epoch 4/5\n",
            "203/203 [==============================] - 4s 19ms/step - loss: 0.0464 - accuracy: 0.9791 - val_loss: 1.3228 - val_accuracy: 0.7408\n",
            "Epoch 5/5\n",
            "203/203 [==============================] - 4s 19ms/step - loss: 0.0446 - accuracy: 0.9790 - val_loss: 1.3521 - val_accuracy: 0.7347\n"
          ],
          "name": "stdout"
        }
      ]
    },
    {
      "cell_type": "code",
      "metadata": {
        "colab": {
          "base_uri": "https://localhost:8080/"
        },
        "id": "iRUd2KxyuB5p",
        "outputId": "f1030f9b-f8ac-4a67-e0c0-792c359839fd"
      },
      "source": [
        "model_5.summary()"
      ],
      "execution_count": null,
      "outputs": [
        {
          "output_type": "stream",
          "text": [
            "Model: \"model_5_Conv_1D\"\n",
            "_________________________________________________________________\n",
            "Layer (type)                 Output Shape              Param #   \n",
            "=================================================================\n",
            "input_9 (InputLayer)         [(None, 1)]               0         \n",
            "_________________________________________________________________\n",
            "text_vectorization_1 (TextVe (None, 15)                0         \n",
            "_________________________________________________________________\n",
            "embedding (Embedding)        (None, 15, 128)           1280000   \n",
            "_________________________________________________________________\n",
            "conv1d_2 (Conv1D)            (None, 11, 64)            41024     \n",
            "_________________________________________________________________\n",
            "global_max_pooling1d_2 (Glob (None, 64)                0         \n",
            "_________________________________________________________________\n",
            "dense_6 (Dense)              (None, 1)                 65        \n",
            "=================================================================\n",
            "Total params: 1,321,089\n",
            "Trainable params: 1,321,089\n",
            "Non-trainable params: 0\n",
            "_________________________________________________________________\n"
          ],
          "name": "stdout"
        }
      ]
    },
    {
      "cell_type": "code",
      "metadata": {
        "colab": {
          "base_uri": "https://localhost:8080/"
        },
        "id": "kVd0az6ttB3n",
        "outputId": "4e87876a-f8f7-4cd6-e3d8-81a15572b756"
      },
      "source": [
        "model_5_pred_probs=model_5.predict(val_sentences)\n",
        "model_5_pred=tf.squeeze(tf.round(model_5_pred_probs))\n",
        "model_5_results=calculate_results(y_true=val_label,y_pred=model_5_pred)\n",
        "model_5_results,model_1_results"
      ],
      "execution_count": null,
      "outputs": [
        {
          "output_type": "execute_result",
          "data": {
            "text/plain": [
              "({'accuracy': 73.4676007005254,\n",
              "  'f1_socre': 0.7339651369501731,\n",
              "  'precision': 0.7337562113195908,\n",
              "  'recall': 0.7346760070052539},\n",
              " {'accuracy': 79.07180385288967,\n",
              "  'f1_socre': 0.789330460019858,\n",
              "  'precision': 0.7904622622156405,\n",
              "  'recall': 0.7907180385288967})"
            ]
          },
          "metadata": {
            "tags": []
          },
          "execution_count": 60
        }
      ]
    },
    {
      "cell_type": "markdown",
      "metadata": {
        "id": "w1Go_fpeyFGR"
      },
      "source": [
        "## Model 6: Pretrained Feature Extraction"
      ]
    },
    {
      "cell_type": "code",
      "metadata": {
        "id": "3DFkQjCh0OcK"
      },
      "source": [
        "#Create keras layer that call the Featrure extraction model\n",
        "sentece_encoder_layer= hub.KerasLayer('https://tfhub.dev/google/universal-sentence-encoder/4',\n",
        "                                      input_shape=[],\n",
        "                                      dtype=tf.string,\n",
        "                                      trainable=False,\n",
        "                                      name='USE')"
      ],
      "execution_count": null,
      "outputs": []
    },
    {
      "cell_type": "code",
      "metadata": {
        "id": "3gQjUT9I1_wt"
      },
      "source": [
        "#Build Model(in this case Sequential)\n",
        "model_6=keras.Sequential([\n",
        "        sentece_encoder_layer,\n",
        "        layers.Dense(64,activation='relu'),\n",
        "        layers.Dense(1,activation='sigmoid',name='output')\n",
        "],name='model_6_USE')"
      ],
      "execution_count": null,
      "outputs": []
    },
    {
      "cell_type": "code",
      "metadata": {
        "colab": {
          "base_uri": "https://localhost:8080/"
        },
        "id": "2V5jnLfM25M_",
        "outputId": "72f56eaf-2f84-417b-d861-5268eea131f7"
      },
      "source": [
        "model_6.compile(loss='binary_crossentropy',\n",
        "                optimizer=Adam(),metrics=['accuracy'])\n",
        "model_6_history=model_6.fit(x=train_sentences,y=train_label,\n",
        "                            epochs=5,validation_data=(val_sentences,val_label),\n",
        "                            callbacks=[create_tensorboard_callback(SAVE_DIR,'model_6_USE_V2')])"
      ],
      "execution_count": null,
      "outputs": [
        {
          "output_type": "stream",
          "text": [
            "Saving TensorBoard log files to: model_logs/model_6_USE_V2/20210727-165512\n",
            "Epoch 1/5\n",
            "203/203 [==============================] - 4s 15ms/step - loss: 0.5112 - accuracy: 0.7784 - val_loss: 0.4497 - val_accuracy: 0.8091\n",
            "Epoch 2/5\n",
            "203/203 [==============================] - 2s 11ms/step - loss: 0.4144 - accuracy: 0.8139 - val_loss: 0.4367 - val_accuracy: 0.8074\n",
            "Epoch 3/5\n",
            "203/203 [==============================] - 2s 10ms/step - loss: 0.4000 - accuracy: 0.8209 - val_loss: 0.4336 - val_accuracy: 0.8082\n",
            "Epoch 4/5\n",
            "203/203 [==============================] - 2s 10ms/step - loss: 0.3916 - accuracy: 0.8280 - val_loss: 0.4286 - val_accuracy: 0.8117\n",
            "Epoch 5/5\n",
            "203/203 [==============================] - 2s 11ms/step - loss: 0.3852 - accuracy: 0.8305 - val_loss: 0.4277 - val_accuracy: 0.8144\n"
          ],
          "name": "stdout"
        }
      ]
    },
    {
      "cell_type": "code",
      "metadata": {
        "colab": {
          "base_uri": "https://localhost:8080/"
        },
        "id": "u930EjdU4zOd",
        "outputId": "b5fc7e33-cf26-4642-c8f7-4c2aab81eecc"
      },
      "source": [
        "model_6.summary()"
      ],
      "execution_count": null,
      "outputs": [
        {
          "output_type": "stream",
          "text": [
            "Model: \"model_6_USE\"\n",
            "_________________________________________________________________\n",
            "Layer (type)                 Output Shape              Param #   \n",
            "=================================================================\n",
            "USE (KerasLayer)             (None, 512)               256797824 \n",
            "_________________________________________________________________\n",
            "dense_8 (Dense)              (None, 64)                32832     \n",
            "_________________________________________________________________\n",
            "output (Dense)               (None, 1)                 65        \n",
            "=================================================================\n",
            "Total params: 256,830,721\n",
            "Trainable params: 32,897\n",
            "Non-trainable params: 256,797,824\n",
            "_________________________________________________________________\n"
          ],
          "name": "stdout"
        }
      ]
    },
    {
      "cell_type": "code",
      "metadata": {
        "colab": {
          "base_uri": "https://localhost:8080/"
        },
        "id": "Dx3pHyDg3egN",
        "outputId": "7fbe7cee-b94d-49fa-eacd-8631e1b4c021"
      },
      "source": [
        "model_6_pred_prob=model_6.predict(val_sentences)\n",
        "model_6_pred=tf.squeeze(tf.round(model_6_pred_prob))\n",
        "model_6_results=calculate_results(y_true=val_label,y_pred=model_6_pred)\n",
        "model_6_results,model_1_results"
      ],
      "execution_count": null,
      "outputs": [
        {
          "output_type": "execute_result",
          "data": {
            "text/plain": [
              "({'accuracy': 81.43607705779334,\n",
              "  'f1_socre': 0.8134259219499498,\n",
              "  'precision': 0.8141475346668683,\n",
              "  'recall': 0.8143607705779334},\n",
              " {'accuracy': 79.07180385288967,\n",
              "  'f1_socre': 0.789330460019858,\n",
              "  'precision': 0.7904622622156405,\n",
              "  'recall': 0.7907180385288967})"
            ]
          },
          "metadata": {
            "tags": []
          },
          "execution_count": 74
        }
      ]
    }
  ]
}